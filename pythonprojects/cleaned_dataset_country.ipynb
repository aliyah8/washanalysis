{
 "cells": [
  {
   "cell_type": "code",
   "execution_count": 6,
   "metadata": {
    "_cell_guid": "b1076dfc-b9ad-4769-8c92-a6c4dae69d19",
    "_uuid": "8f2839f25d086af736a60e9eeb907d3b93b6e0e5"
   },
   "outputs": [],
   "source": [
    "import numpy as np # linear algebra\n",
    "import pandas as pd # data processing, CSV file I/O (e.g. pd.read_csv)\n",
    "import os"
   ]
  },
  {
   "cell_type": "code",
   "execution_count": 15,
   "metadata": {
    "_cell_guid": "",
    "_uuid": ""
   },
   "outputs": [],
   "source": [
    "wash_country = pd.read_csv(\"data/washdash-download-2.csv\")"
   ]
  },
  {
   "cell_type": "markdown",
   "metadata": {},
   "source": [
    "### CLEAN DATASET"
   ]
  },
  {
   "cell_type": "code",
   "execution_count": null,
   "metadata": {},
   "outputs": [],
   "source": [
    "wash_country.head()"
   ]
  },
  {
   "cell_type": "code",
   "execution_count": 19,
   "metadata": {},
   "outputs": [],
   "source": [
    "wash_country_cov = wash_country.drop(['Population'], axis =1)\n",
    "wash_country_spread = pd.pivot_table(wash_country_cov, values = 'Coverage', index=['Country','Year', 'Residence Type'], columns = 'Service level').reset_index()\n",
    "wash_country_spread.loc[wash_country_spread['Basic service'].isnull(), 'Basic service'] = wash_country_spread['At least basic']\n",
    "wash_country_spread = wash_country_spread.drop(['At least basic'], axis = 1)\n",
    "\n",
    "#replace NA values with zero  \n",
    "wash_country_spread = wash_country_spread.fillna(0)\n",
    "\n",
    "wash_country_spread.to_csv('wash_country_clean.csv',index=False)"
   ]
  },
  {
   "cell_type": "code",
   "execution_count": null,
   "metadata": {},
   "outputs": [],
   "source": []
  },
  {
   "cell_type": "markdown",
   "metadata": {},
   "source": [
    "### ALIYA - WATER"
   ]
  },
  {
   "cell_type": "code",
   "execution_count": 20,
   "metadata": {},
   "outputs": [
    {
     "data": {
      "text/html": [
       "<div>\n",
       "<style scoped>\n",
       "    .dataframe tbody tr th:only-of-type {\n",
       "        vertical-align: middle;\n",
       "    }\n",
       "\n",
       "    .dataframe tbody tr th {\n",
       "        vertical-align: top;\n",
       "    }\n",
       "\n",
       "    .dataframe thead th {\n",
       "        text-align: right;\n",
       "    }\n",
       "</style>\n",
       "<table border=\"1\" class=\"dataframe\">\n",
       "  <thead>\n",
       "    <tr style=\"text-align: right;\">\n",
       "      <th>Service level</th>\n",
       "      <th>Country</th>\n",
       "      <th>Year</th>\n",
       "      <th>Residence Type</th>\n",
       "      <th>Basic service</th>\n",
       "      <th>Limited service</th>\n",
       "      <th>No handwashing facility</th>\n",
       "      <th>Open defecation</th>\n",
       "      <th>Safely managed service</th>\n",
       "      <th>Surface water</th>\n",
       "      <th>Unimproved</th>\n",
       "    </tr>\n",
       "  </thead>\n",
       "  <tbody>\n",
       "    <tr>\n",
       "      <th>0</th>\n",
       "      <td>Afghanistan</td>\n",
       "      <td>2000</td>\n",
       "      <td>rural</td>\n",
       "      <td>21.707450</td>\n",
       "      <td>3.417880</td>\n",
       "      <td>0.0</td>\n",
       "      <td>31.36838</td>\n",
       "      <td>0.0</td>\n",
       "      <td>29.56021</td>\n",
       "      <td>44.410375</td>\n",
       "    </tr>\n",
       "    <tr>\n",
       "      <th>1</th>\n",
       "      <td>Afghanistan</td>\n",
       "      <td>2000</td>\n",
       "      <td>total</td>\n",
       "      <td>25.643815</td>\n",
       "      <td>4.715075</td>\n",
       "      <td>0.0</td>\n",
       "      <td>26.01966</td>\n",
       "      <td>0.0</td>\n",
       "      <td>25.24754</td>\n",
       "      <td>44.007510</td>\n",
       "    </tr>\n",
       "    <tr>\n",
       "      <th>2</th>\n",
       "      <td>Afghanistan</td>\n",
       "      <td>2000</td>\n",
       "      <td>urban</td>\n",
       "      <td>39.536795</td>\n",
       "      <td>9.293380</td>\n",
       "      <td>0.0</td>\n",
       "      <td>7.14190</td>\n",
       "      <td>0.0</td>\n",
       "      <td>10.02644</td>\n",
       "      <td>42.585655</td>\n",
       "    </tr>\n",
       "    <tr>\n",
       "      <th>3</th>\n",
       "      <td>Afghanistan</td>\n",
       "      <td>2001</td>\n",
       "      <td>rural</td>\n",
       "      <td>21.707450</td>\n",
       "      <td>3.417880</td>\n",
       "      <td>0.0</td>\n",
       "      <td>31.36838</td>\n",
       "      <td>0.0</td>\n",
       "      <td>29.56021</td>\n",
       "      <td>44.410375</td>\n",
       "    </tr>\n",
       "    <tr>\n",
       "      <th>4</th>\n",
       "      <td>Afghanistan</td>\n",
       "      <td>2001</td>\n",
       "      <td>total</td>\n",
       "      <td>25.660040</td>\n",
       "      <td>4.720420</td>\n",
       "      <td>0.0</td>\n",
       "      <td>25.99761</td>\n",
       "      <td>0.0</td>\n",
       "      <td>25.22977</td>\n",
       "      <td>44.005855</td>\n",
       "    </tr>\n",
       "  </tbody>\n",
       "</table>\n",
       "</div>"
      ],
      "text/plain": [
       "Service level      Country  Year Residence Type  Basic service  \\\n",
       "0              Afghanistan  2000          rural      21.707450   \n",
       "1              Afghanistan  2000          total      25.643815   \n",
       "2              Afghanistan  2000          urban      39.536795   \n",
       "3              Afghanistan  2001          rural      21.707450   \n",
       "4              Afghanistan  2001          total      25.660040   \n",
       "\n",
       "Service level  Limited service  No handwashing facility  Open defecation  \\\n",
       "0                     3.417880                      0.0         31.36838   \n",
       "1                     4.715075                      0.0         26.01966   \n",
       "2                     9.293380                      0.0          7.14190   \n",
       "3                     3.417880                      0.0         31.36838   \n",
       "4                     4.720420                      0.0         25.99761   \n",
       "\n",
       "Service level  Safely managed service  Surface water  Unimproved  \n",
       "0                                 0.0       29.56021   44.410375  \n",
       "1                                 0.0       25.24754   44.007510  \n",
       "2                                 0.0       10.02644   42.585655  \n",
       "3                                 0.0       29.56021   44.410375  \n",
       "4                                 0.0       25.22977   44.005855  "
      ]
     },
     "execution_count": 20,
     "metadata": {},
     "output_type": "execute_result"
    }
   ],
   "source": [
    "wash_country_spread.head()"
   ]
  },
  {
   "cell_type": "code",
   "execution_count": 21,
   "metadata": {},
   "outputs": [
    {
     "data": {
      "text/html": [
       "<div>\n",
       "<style scoped>\n",
       "    .dataframe tbody tr th:only-of-type {\n",
       "        vertical-align: middle;\n",
       "    }\n",
       "\n",
       "    .dataframe tbody tr th {\n",
       "        vertical-align: top;\n",
       "    }\n",
       "\n",
       "    .dataframe thead th {\n",
       "        text-align: right;\n",
       "    }\n",
       "</style>\n",
       "<table border=\"1\" class=\"dataframe\">\n",
       "  <thead>\n",
       "    <tr style=\"text-align: right;\">\n",
       "      <th></th>\n",
       "      <th>ISO3</th>\n",
       "      <th>Country</th>\n",
       "      <th>Residence Type</th>\n",
       "      <th>Service Type</th>\n",
       "      <th>Year</th>\n",
       "      <th>Coverage</th>\n",
       "      <th>Population</th>\n",
       "      <th>Service level</th>\n",
       "    </tr>\n",
       "  </thead>\n",
       "  <tbody>\n",
       "    <tr>\n",
       "      <th>0</th>\n",
       "      <td>ABW</td>\n",
       "      <td>Aruba</td>\n",
       "      <td>total</td>\n",
       "      <td>Sanitation</td>\n",
       "      <td>2000</td>\n",
       "      <td>98.32021</td>\n",
       "      <td>89326.86037</td>\n",
       "      <td>At least basic</td>\n",
       "    </tr>\n",
       "    <tr>\n",
       "      <th>1</th>\n",
       "      <td>ABW</td>\n",
       "      <td>Aruba</td>\n",
       "      <td>total</td>\n",
       "      <td>Drinking water</td>\n",
       "      <td>2000</td>\n",
       "      <td>94.48881</td>\n",
       "      <td>85845.91524</td>\n",
       "      <td>At least basic</td>\n",
       "    </tr>\n",
       "    <tr>\n",
       "      <th>2</th>\n",
       "      <td>ABW</td>\n",
       "      <td>Aruba</td>\n",
       "      <td>total</td>\n",
       "      <td>Sanitation</td>\n",
       "      <td>2000</td>\n",
       "      <td>0.00000</td>\n",
       "      <td>0.00000</td>\n",
       "      <td>Limited service</td>\n",
       "    </tr>\n",
       "    <tr>\n",
       "      <th>3</th>\n",
       "      <td>ABW</td>\n",
       "      <td>Aruba</td>\n",
       "      <td>total</td>\n",
       "      <td>Drinking water</td>\n",
       "      <td>2000</td>\n",
       "      <td>0.00000</td>\n",
       "      <td>0.00000</td>\n",
       "      <td>Limited service</td>\n",
       "    </tr>\n",
       "    <tr>\n",
       "      <th>4</th>\n",
       "      <td>ABW</td>\n",
       "      <td>Aruba</td>\n",
       "      <td>total</td>\n",
       "      <td>Sanitation</td>\n",
       "      <td>2000</td>\n",
       "      <td>1.04987</td>\n",
       "      <td>953.83727</td>\n",
       "      <td>Open defecation</td>\n",
       "    </tr>\n",
       "  </tbody>\n",
       "</table>\n",
       "</div>"
      ],
      "text/plain": [
       "  ISO3 Country Residence Type    Service Type  Year  Coverage   Population  \\\n",
       "0  ABW   Aruba          total      Sanitation  2000  98.32021  89326.86037   \n",
       "1  ABW   Aruba          total  Drinking water  2000  94.48881  85845.91524   \n",
       "2  ABW   Aruba          total      Sanitation  2000   0.00000      0.00000   \n",
       "3  ABW   Aruba          total  Drinking water  2000   0.00000      0.00000   \n",
       "4  ABW   Aruba          total      Sanitation  2000   1.04987    953.83727   \n",
       "\n",
       "     Service level  \n",
       "0   At least basic  \n",
       "1   At least basic  \n",
       "2  Limited service  \n",
       "3  Limited service  \n",
       "4  Open defecation  "
      ]
     },
     "execution_count": 21,
     "metadata": {},
     "output_type": "execute_result"
    }
   ],
   "source": []
  },
  {
   "cell_type": "markdown",
   "metadata": {},
   "source": [
    "### AASHNA - SANITATION"
   ]
  },
  {
   "cell_type": "markdown",
   "metadata": {},
   "source": [
    "### ZELDA - HYGIENE"
   ]
  }
 ],
 "metadata": {
  "kernelspec": {
   "display_name": "Python 3",
   "language": "python",
   "name": "python3"
  },
  "language_info": {
   "codemirror_mode": {
    "name": "ipython",
    "version": 3
   },
   "file_extension": ".py",
   "mimetype": "text/x-python",
   "name": "python",
   "nbconvert_exporter": "python",
   "pygments_lexer": "ipython3",
   "version": "3.6.9"
  }
 },
 "nbformat": 4,
 "nbformat_minor": 1
}
