{
 "cells": [
  {
   "cell_type": "code",
   "execution_count": null,
   "metadata": {},
   "outputs": [],
   "source": []
  },
  {
   "cell_type": "code",
   "execution_count": 48,
   "metadata": {},
   "outputs": [],
   "source": [
    "import pandas as pd\n",
    "import matplotlib.pyplot as plt\n",
    "import numpy\n",
    "import os"
   ]
  },
  {
   "cell_type": "code",
   "execution_count": 49,
   "metadata": {},
   "outputs": [
    {
     "data": {
      "text/plain": [
       "'/Users/zeldaferris/Dropbox/Applied-Math-Capstone'"
      ]
     },
     "execution_count": 49,
     "metadata": {},
     "output_type": "execute_result"
    }
   ],
   "source": [
    "os.getcwd()"
   ]
  },
  {
   "cell_type": "code",
   "execution_count": 50,
   "metadata": {},
   "outputs": [],
   "source": [
    "import os\n",
    "import matplotlib as plt\n",
    "import pandas"
   ]
  },
  {
   "cell_type": "code",
   "execution_count": 51,
   "metadata": {},
   "outputs": [],
   "source": [
    "#Cleaning Dataframe"
   ]
  },
  {
   "cell_type": "code",
   "execution_count": 52,
   "metadata": {},
   "outputs": [
    {
     "data": {
      "text/html": [
       "<div>\n",
       "<style scoped>\n",
       "    .dataframe tbody tr th:only-of-type {\n",
       "        vertical-align: middle;\n",
       "    }\n",
       "\n",
       "    .dataframe tbody tr th {\n",
       "        vertical-align: top;\n",
       "    }\n",
       "\n",
       "    .dataframe thead th {\n",
       "        text-align: right;\n",
       "    }\n",
       "</style>\n",
       "<table border=\"1\" class=\"dataframe\">\n",
       "  <thead>\n",
       "    <tr style=\"text-align: right;\">\n",
       "      <th></th>\n",
       "      <th>Region</th>\n",
       "      <th>Year</th>\n",
       "      <th>Coverage</th>\n",
       "      <th>Service level</th>\n",
       "    </tr>\n",
       "  </thead>\n",
       "  <tbody>\n",
       "    <tr>\n",
       "      <td>642</td>\n",
       "      <td>Central and Southern Asia</td>\n",
       "      <td>2012</td>\n",
       "      <td>57.84334</td>\n",
       "      <td>Basic service</td>\n",
       "    </tr>\n",
       "    <tr>\n",
       "      <td>645</td>\n",
       "      <td>Central and Southern Asia</td>\n",
       "      <td>2012</td>\n",
       "      <td>37.61230</td>\n",
       "      <td>Limited service</td>\n",
       "    </tr>\n",
       "    <tr>\n",
       "      <td>648</td>\n",
       "      <td>Central and Southern Asia</td>\n",
       "      <td>2012</td>\n",
       "      <td>4.54436</td>\n",
       "      <td>No handwashing facility</td>\n",
       "    </tr>\n",
       "    <tr>\n",
       "      <td>679</td>\n",
       "      <td>Central and Southern Asia</td>\n",
       "      <td>2013</td>\n",
       "      <td>57.95544</td>\n",
       "      <td>Basic service</td>\n",
       "    </tr>\n",
       "    <tr>\n",
       "      <td>682</td>\n",
       "      <td>Central and Southern Asia</td>\n",
       "      <td>2013</td>\n",
       "      <td>37.51056</td>\n",
       "      <td>Limited service</td>\n",
       "    </tr>\n",
       "  </tbody>\n",
       "</table>\n",
       "</div>"
      ],
      "text/plain": [
       "                        Region  Year  Coverage            Service level\n",
       "642  Central and Southern Asia  2012  57.84334            Basic service\n",
       "645  Central and Southern Asia  2012  37.61230          Limited service\n",
       "648  Central and Southern Asia  2012   4.54436  No handwashing facility\n",
       "679  Central and Southern Asia  2013  57.95544            Basic service\n",
       "682  Central and Southern Asia  2013  37.51056          Limited service"
      ]
     },
     "execution_count": 52,
     "metadata": {},
     "output_type": "execute_result"
    }
   ],
   "source": [
    "df = pd.read_csv('Raw_Data/washdash-download.csv')\n",
    "df_hygiene = df[df['Service Type'] == 'Hygiene']\n",
    "df_hygiene_total = df_hygiene[df_hygiene['Residence Type'] == 'total']\n",
    "df_hygiene_total.to_csv('Raw_Data/hygiene_data.csv')\n",
    "df_hygiene_total = df_hygiene_total.drop(['Population', 'Type', 'Residence Type', 'Service Type'], axis =1)\n",
    "df_hygiene_total.head()"
   ]
  },
  {
   "cell_type": "code",
   "execution_count": 53,
   "metadata": {},
   "outputs": [
    {
     "data": {
      "text/html": [
       "<div>\n",
       "<style scoped>\n",
       "    .dataframe tbody tr th:only-of-type {\n",
       "        vertical-align: middle;\n",
       "    }\n",
       "\n",
       "    .dataframe tbody tr th {\n",
       "        vertical-align: top;\n",
       "    }\n",
       "\n",
       "    .dataframe thead th {\n",
       "        text-align: right;\n",
       "    }\n",
       "</style>\n",
       "<table border=\"1\" class=\"dataframe\">\n",
       "  <thead>\n",
       "    <tr style=\"text-align: right;\">\n",
       "      <th>Service level</th>\n",
       "      <th>Region</th>\n",
       "      <th>Year</th>\n",
       "      <th>Basic service</th>\n",
       "      <th>Limited service</th>\n",
       "      <th>No handwashing facility</th>\n",
       "    </tr>\n",
       "  </thead>\n",
       "  <tbody>\n",
       "    <tr>\n",
       "      <td>0</td>\n",
       "      <td>Central and Southern Asia</td>\n",
       "      <td>2012</td>\n",
       "      <td>57.84334</td>\n",
       "      <td>37.61230</td>\n",
       "      <td>4.54436</td>\n",
       "    </tr>\n",
       "    <tr>\n",
       "      <td>1</td>\n",
       "      <td>Central and Southern Asia</td>\n",
       "      <td>2013</td>\n",
       "      <td>57.95544</td>\n",
       "      <td>37.51056</td>\n",
       "      <td>4.53400</td>\n",
       "    </tr>\n",
       "    <tr>\n",
       "      <td>2</td>\n",
       "      <td>Central and Southern Asia</td>\n",
       "      <td>2014</td>\n",
       "      <td>58.06169</td>\n",
       "      <td>37.41489</td>\n",
       "      <td>4.52342</td>\n",
       "    </tr>\n",
       "    <tr>\n",
       "      <td>3</td>\n",
       "      <td>Central and Southern Asia</td>\n",
       "      <td>2015</td>\n",
       "      <td>58.16124</td>\n",
       "      <td>37.32596</td>\n",
       "      <td>4.51279</td>\n",
       "    </tr>\n",
       "    <tr>\n",
       "      <td>4</td>\n",
       "      <td>Central and Southern Asia</td>\n",
       "      <td>2017</td>\n",
       "      <td>58.38168</td>\n",
       "      <td>37.12723</td>\n",
       "      <td>4.49109</td>\n",
       "    </tr>\n",
       "  </tbody>\n",
       "</table>\n",
       "</div>"
      ],
      "text/plain": [
       "Service level                     Region  Year  Basic service  \\\n",
       "0              Central and Southern Asia  2012       57.84334   \n",
       "1              Central and Southern Asia  2013       57.95544   \n",
       "2              Central and Southern Asia  2014       58.06169   \n",
       "3              Central and Southern Asia  2015       58.16124   \n",
       "4              Central and Southern Asia  2017       58.38168   \n",
       "\n",
       "Service level  Limited service  No handwashing facility  \n",
       "0                     37.61230                  4.54436  \n",
       "1                     37.51056                  4.53400  \n",
       "2                     37.41489                  4.52342  \n",
       "3                     37.32596                  4.51279  \n",
       "4                     37.12723                  4.49109  "
      ]
     },
     "execution_count": 53,
     "metadata": {},
     "output_type": "execute_result"
    }
   ],
   "source": [
    "df_hygiene_spread = pd.pivot_table(df_hygiene_total, values = 'Coverage', index=['Region','Year'], columns = 'Service level').reset_index()\n",
    "df_hygiene_spread.head()"
   ]
  },
  {
   "cell_type": "code",
   "execution_count": 54,
   "metadata": {},
   "outputs": [
    {
     "data": {
      "text/plain": [
       "array(['Central and Southern Asia', 'Latin America and the Caribbean',\n",
       "       'Northern Africa and Western Asia', 'Sub-Saharan Africa'],\n",
       "      dtype=object)"
      ]
     },
     "execution_count": 54,
     "metadata": {},
     "output_type": "execute_result"
    }
   ],
   "source": [
    "df_hygiene['Region'].unique()"
   ]
  },
  {
   "cell_type": "code",
   "execution_count": 55,
   "metadata": {},
   "outputs": [],
   "source": [
    "#Annalyize Trends"
   ]
  },
  {
   "cell_type": "code",
   "execution_count": 56,
   "metadata": {},
   "outputs": [],
   "source": [
    "df_csa = df_hygiene[df_hygiene['Region'] == 'Central and Southern Asia']\n",
    "df_lac = df_hygiene[df_hygiene['Region'] == 'Latin America and the Caribbean']\n",
    "df_nawa = df_hygiene[df_hygiene['Region'] == 'Northern Africa and Western Asia']\n",
    "df_ssa = df_hygiene[df_hygiene['Region'] == 'Sub-Saharan Africa']"
   ]
  },
  {
   "cell_type": "code",
   "execution_count": 57,
   "metadata": {},
   "outputs": [],
   "source": [
    "import matplotlib.pyplot "
   ]
  },
  {
   "cell_type": "code",
   "execution_count": 58,
   "metadata": {},
   "outputs": [
    {
     "ename": "AttributeError",
     "evalue": "module 'matplotlib' has no attribute 'plot'",
     "output_type": "error",
     "traceback": [
      "\u001b[0;31m---------------------------------------------------------------------------\u001b[0m",
      "\u001b[0;31mAttributeError\u001b[0m                            Traceback (most recent call last)",
      "\u001b[0;32m<ipython-input-58-f5efd3296296>\u001b[0m in \u001b[0;36m<module>\u001b[0;34m\u001b[0m\n\u001b[1;32m      8\u001b[0m         \u001b[0mtitle\u001b[0m \u001b[0;34m=\u001b[0m \u001b[0msdg_region_title\u001b[0m\u001b[0;34m[\u001b[0m\u001b[0mindex\u001b[0m\u001b[0;34m]\u001b[0m\u001b[0;34m\u001b[0m\u001b[0;34m\u001b[0m\u001b[0m\n\u001b[1;32m      9\u001b[0m \u001b[0;34m\u001b[0m\u001b[0m\n\u001b[0;32m---> 10\u001b[0;31m         \u001b[0mplt\u001b[0m\u001b[0;34m.\u001b[0m\u001b[0mplot\u001b[0m\u001b[0;34m(\u001b[0m\u001b[0mregion\u001b[0m\u001b[0;34m[\u001b[0m\u001b[0;34m'Year'\u001b[0m\u001b[0;34m]\u001b[0m\u001b[0;34m,\u001b[0m \u001b[0mregion\u001b[0m\u001b[0;34m[\u001b[0m\u001b[0;34m'Basic service'\u001b[0m\u001b[0;34m]\u001b[0m\u001b[0;34m,\u001b[0m \u001b[0mcolor\u001b[0m \u001b[0;34m=\u001b[0m \u001b[0;34m'lightseagreen'\u001b[0m\u001b[0;34m,\u001b[0m \u001b[0mmarker\u001b[0m \u001b[0;34m=\u001b[0m \u001b[0;34m'^'\u001b[0m\u001b[0;34m,\u001b[0m \u001b[0mlabel\u001b[0m \u001b[0;34m=\u001b[0m \u001b[0;34m\"Basic\"\u001b[0m\u001b[0;34m)\u001b[0m\u001b[0;34m\u001b[0m\u001b[0;34m\u001b[0m\u001b[0m\n\u001b[0m\u001b[1;32m     11\u001b[0m         \u001b[0mplt\u001b[0m\u001b[0;34m.\u001b[0m\u001b[0mplot\u001b[0m\u001b[0;34m(\u001b[0m\u001b[0mregion\u001b[0m\u001b[0;34m[\u001b[0m\u001b[0;34m'Year'\u001b[0m\u001b[0;34m]\u001b[0m\u001b[0;34m,\u001b[0m \u001b[0mregion\u001b[0m\u001b[0;34m[\u001b[0m\u001b[0;34m'Limited service'\u001b[0m\u001b[0;34m]\u001b[0m\u001b[0;34m,\u001b[0m \u001b[0mcolor\u001b[0m \u001b[0;34m=\u001b[0m \u001b[0;34m'royalblue'\u001b[0m\u001b[0;34m,\u001b[0m \u001b[0mmarker\u001b[0m \u001b[0;34m=\u001b[0m \u001b[0;34m'^'\u001b[0m\u001b[0;34m,\u001b[0m \u001b[0mlabel\u001b[0m \u001b[0;34m=\u001b[0m \u001b[0;34m'Limited'\u001b[0m\u001b[0;34m)\u001b[0m\u001b[0;34m\u001b[0m\u001b[0;34m\u001b[0m\u001b[0m\n\u001b[1;32m     12\u001b[0m         \u001b[0mplt\u001b[0m\u001b[0;34m.\u001b[0m\u001b[0mplot\u001b[0m\u001b[0;34m(\u001b[0m\u001b[0mregion\u001b[0m\u001b[0;34m[\u001b[0m\u001b[0;34m'Year'\u001b[0m\u001b[0;34m]\u001b[0m\u001b[0;34m,\u001b[0m \u001b[0mregion\u001b[0m\u001b[0;34m[\u001b[0m\u001b[0;34m'No handwashing facility'\u001b[0m\u001b[0;34m]\u001b[0m\u001b[0;34m,\u001b[0m \u001b[0mcolor\u001b[0m \u001b[0;34m=\u001b[0m \u001b[0;34m'mediumpurple'\u001b[0m\u001b[0;34m,\u001b[0m \u001b[0mmarker\u001b[0m \u001b[0;34m=\u001b[0m\u001b[0;34m'.'\u001b[0m\u001b[0;34m,\u001b[0m \u001b[0mlabel\u001b[0m \u001b[0;34m=\u001b[0m \u001b[0;34m'No handwashing facility'\u001b[0m\u001b[0;34m)\u001b[0m\u001b[0;34m\u001b[0m\u001b[0;34m\u001b[0m\u001b[0m\n",
      "\u001b[0;31mAttributeError\u001b[0m: module 'matplotlib' has no attribute 'plot'"
     ]
    }
   ],
   "source": [
    "sdg_regions = [df_csa, df_lac, df_nawa, df_ssa]\n",
    "sdg_region_title = ['Central and Southern Asia',\n",
    "                   'Latin America and the Caribbean', \n",
    "                   'Northern Africa and Western Asia', \n",
    "                   'Sub-Saharan Africa']\n",
    "index = 0\n",
    "for region in sdg_regions: \n",
    "        title = sdg_region_title[index]\n",
    "\n",
    "        plt.plot(region['Year'], region['Basic service'], color = 'lightseagreen', marker = '^', label = \"Basic\")\n",
    "        plt.plot(region['Year'], region['Limited service'], color = 'royalblue', marker = '^', label = 'Limited')\n",
    "        plt.plot(region['Year'], region['No handwashing facility'], color = 'mediumpurple', marker ='.', label = 'No handwashing facility')\n",
    "\n",
    "        plt.legend(loc='upper center', bbox_to_anchor=(1.45, 0.8), shadow=True, ncol=1)\n",
    "        plt.xticks(range(2000,2017,2))\n",
    "        plt.xlabel('Year')\n",
    "        plt.ylabel('Percent Coverage')\n",
    "        plt.title(title)\n",
    "        \n",
    "        image_title = sdg_region_title[index].replace(\" \", \"\") + \"_coverage.png\" \n",
    "        plt.savefig('Hygiene/' + image_title)\n",
    "        plt.show()\n",
    "        index += 1"
   ]
  },
  {
   "cell_type": "code",
   "execution_count": null,
   "metadata": {},
   "outputs": [],
   "source": []
  },
  {
   "cell_type": "code",
   "execution_count": null,
   "metadata": {},
   "outputs": [],
   "source": []
  }
 ],
 "metadata": {
  "kernelspec": {
   "display_name": "Python 3",
   "language": "python",
   "name": "python3"
  },
  "language_info": {
   "codemirror_mode": {
    "name": "ipython",
    "version": 3
   },
   "file_extension": ".py",
   "mimetype": "text/x-python",
   "name": "python",
   "nbconvert_exporter": "python",
   "pygments_lexer": "ipython3",
   "version": "3.7.4"
  }
 },
 "nbformat": 4,
 "nbformat_minor": 4
}
