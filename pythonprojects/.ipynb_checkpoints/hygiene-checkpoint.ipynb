{
 "cells": [
  {
   "cell_type": "code",
   "execution_count": 2,
   "metadata": {},
   "outputs": [],
   "source": [
    "import sys\n",
    "import pandas as pd\n",
    "import numpy\n",
    "import matplotlib\n"
   ]
  },
  {
   "cell_type": "code",
   "execution_count": 3,
   "metadata": {},
   "outputs": [],
   "source": [
    "df = pd.read_csv('data/washdash-download.csv')"
   ]
  },
  {
   "cell_type": "code",
   "execution_count": 4,
   "metadata": {},
   "outputs": [
    {
     "data": {
      "text/html": [
       "<div>\n",
       "<style scoped>\n",
       "    .dataframe tbody tr th:only-of-type {\n",
       "        vertical-align: middle;\n",
       "    }\n",
       "\n",
       "    .dataframe tbody tr th {\n",
       "        vertical-align: top;\n",
       "    }\n",
       "\n",
       "    .dataframe thead th {\n",
       "        text-align: right;\n",
       "    }\n",
       "</style>\n",
       "<table border=\"1\" class=\"dataframe\">\n",
       "  <thead>\n",
       "    <tr style=\"text-align: right;\">\n",
       "      <th></th>\n",
       "      <th>Type</th>\n",
       "      <th>Region</th>\n",
       "      <th>Residence Type</th>\n",
       "      <th>Service Type</th>\n",
       "      <th>Year</th>\n",
       "      <th>Coverage</th>\n",
       "      <th>Population</th>\n",
       "      <th>Service level</th>\n",
       "    </tr>\n",
       "  </thead>\n",
       "  <tbody>\n",
       "    <tr>\n",
       "      <th>0</th>\n",
       "      <td>sdg</td>\n",
       "      <td>Australia and New Zealand</td>\n",
       "      <td>total</td>\n",
       "      <td>Sanitation</td>\n",
       "      <td>2000</td>\n",
       "      <td>39.38183</td>\n",
       "      <td>9.028221e+06</td>\n",
       "      <td>Basic service</td>\n",
       "    </tr>\n",
       "    <tr>\n",
       "      <th>1</th>\n",
       "      <td>sdg</td>\n",
       "      <td>Australia and New Zealand</td>\n",
       "      <td>total</td>\n",
       "      <td>Sanitation</td>\n",
       "      <td>2000</td>\n",
       "      <td>0.00000</td>\n",
       "      <td>0.000000e+00</td>\n",
       "      <td>Limited service</td>\n",
       "    </tr>\n",
       "    <tr>\n",
       "      <th>2</th>\n",
       "      <td>sdg</td>\n",
       "      <td>Australia and New Zealand</td>\n",
       "      <td>total</td>\n",
       "      <td>Sanitation</td>\n",
       "      <td>2000</td>\n",
       "      <td>0.00000</td>\n",
       "      <td>0.000000e+00</td>\n",
       "      <td>Open defecation</td>\n",
       "    </tr>\n",
       "    <tr>\n",
       "      <th>3</th>\n",
       "      <td>sdg</td>\n",
       "      <td>Australia and New Zealand</td>\n",
       "      <td>total</td>\n",
       "      <td>Sanitation</td>\n",
       "      <td>2000</td>\n",
       "      <td>60.61081</td>\n",
       "      <td>1.389493e+07</td>\n",
       "      <td>Safely managed service</td>\n",
       "    </tr>\n",
       "    <tr>\n",
       "      <th>4</th>\n",
       "      <td>sdg</td>\n",
       "      <td>Australia and New Zealand</td>\n",
       "      <td>total</td>\n",
       "      <td>Sanitation</td>\n",
       "      <td>2000</td>\n",
       "      <td>0.00736</td>\n",
       "      <td>1.686995e+03</td>\n",
       "      <td>Unimproved</td>\n",
       "    </tr>\n",
       "  </tbody>\n",
       "</table>\n",
       "</div>"
      ],
      "text/plain": [
       "  Type                     Region Residence Type Service Type  Year  Coverage  \\\n",
       "0  sdg  Australia and New Zealand          total   Sanitation  2000  39.38183   \n",
       "1  sdg  Australia and New Zealand          total   Sanitation  2000   0.00000   \n",
       "2  sdg  Australia and New Zealand          total   Sanitation  2000   0.00000   \n",
       "3  sdg  Australia and New Zealand          total   Sanitation  2000  60.61081   \n",
       "4  sdg  Australia and New Zealand          total   Sanitation  2000   0.00736   \n",
       "\n",
       "     Population           Service level  \n",
       "0  9.028221e+06           Basic service  \n",
       "1  0.000000e+00         Limited service  \n",
       "2  0.000000e+00         Open defecation  \n",
       "3  1.389493e+07  Safely managed service  \n",
       "4  1.686995e+03              Unimproved  "
      ]
     },
     "execution_count": 4,
     "metadata": {},
     "output_type": "execute_result"
    }
   ],
   "source": [
    "df.head()"
   ]
  },
  {
   "cell_type": "code",
   "execution_count": 5,
   "metadata": {},
   "outputs": [
    {
     "data": {
      "text/plain": [
       "0           Sanitation\n",
       "1           Sanitation\n",
       "2           Sanitation\n",
       "3           Sanitation\n",
       "4           Sanitation\n",
       "             ...      \n",
       "3750    Drinking water\n",
       "3751    Drinking water\n",
       "3752    Drinking water\n",
       "3753    Drinking water\n",
       "3754    Drinking water\n",
       "Name: Service Type, Length: 3755, dtype: object"
      ]
     },
     "execution_count": 5,
     "metadata": {},
     "output_type": "execute_result"
    }
   ],
   "source": [
    "df['Service Type']"
   ]
  },
  {
   "cell_type": "code",
   "execution_count": 6,
   "metadata": {},
   "outputs": [],
   "source": [
    "hygienedf = df[df['Service Type'] == 'Hygiene']"
   ]
  },
  {
   "cell_type": "code",
   "execution_count": 7,
   "metadata": {},
   "outputs": [
    {
     "data": {
      "text/html": [
       "<div>\n",
       "<style scoped>\n",
       "    .dataframe tbody tr th:only-of-type {\n",
       "        vertical-align: middle;\n",
       "    }\n",
       "\n",
       "    .dataframe tbody tr th {\n",
       "        vertical-align: top;\n",
       "    }\n",
       "\n",
       "    .dataframe thead th {\n",
       "        text-align: right;\n",
       "    }\n",
       "</style>\n",
       "<table border=\"1\" class=\"dataframe\">\n",
       "  <thead>\n",
       "    <tr style=\"text-align: right;\">\n",
       "      <th></th>\n",
       "      <th>Type</th>\n",
       "      <th>Region</th>\n",
       "      <th>Residence Type</th>\n",
       "      <th>Service Type</th>\n",
       "      <th>Year</th>\n",
       "      <th>Coverage</th>\n",
       "      <th>Population</th>\n",
       "      <th>Service level</th>\n",
       "    </tr>\n",
       "  </thead>\n",
       "  <tbody>\n",
       "    <tr>\n",
       "      <th>642</th>\n",
       "      <td>sdg</td>\n",
       "      <td>Central and Southern Asia</td>\n",
       "      <td>total</td>\n",
       "      <td>Hygiene</td>\n",
       "      <td>2012</td>\n",
       "      <td>57.84334</td>\n",
       "      <td>1.051816e+09</td>\n",
       "      <td>Basic service</td>\n",
       "    </tr>\n",
       "    <tr>\n",
       "      <th>643</th>\n",
       "      <td>sdg</td>\n",
       "      <td>Central and Southern Asia</td>\n",
       "      <td>rural</td>\n",
       "      <td>Hygiene</td>\n",
       "      <td>2012</td>\n",
       "      <td>47.44093</td>\n",
       "      <td>5.708853e+08</td>\n",
       "      <td>Basic service</td>\n",
       "    </tr>\n",
       "    <tr>\n",
       "      <th>644</th>\n",
       "      <td>sdg</td>\n",
       "      <td>Central and Southern Asia</td>\n",
       "      <td>urban</td>\n",
       "      <td>Hygiene</td>\n",
       "      <td>2012</td>\n",
       "      <td>78.19666</td>\n",
       "      <td>4.809309e+08</td>\n",
       "      <td>Basic service</td>\n",
       "    </tr>\n",
       "    <tr>\n",
       "      <th>645</th>\n",
       "      <td>sdg</td>\n",
       "      <td>Central and Southern Asia</td>\n",
       "      <td>total</td>\n",
       "      <td>Hygiene</td>\n",
       "      <td>2012</td>\n",
       "      <td>37.61230</td>\n",
       "      <td>6.839375e+08</td>\n",
       "      <td>Limited service</td>\n",
       "    </tr>\n",
       "    <tr>\n",
       "      <th>646</th>\n",
       "      <td>sdg</td>\n",
       "      <td>Central and Southern Asia</td>\n",
       "      <td>rural</td>\n",
       "      <td>Hygiene</td>\n",
       "      <td>2012</td>\n",
       "      <td>47.02904</td>\n",
       "      <td>5.659288e+08</td>\n",
       "      <td>Limited service</td>\n",
       "    </tr>\n",
       "  </tbody>\n",
       "</table>\n",
       "</div>"
      ],
      "text/plain": [
       "    Type                     Region Residence Type Service Type  Year  \\\n",
       "642  sdg  Central and Southern Asia          total      Hygiene  2012   \n",
       "643  sdg  Central and Southern Asia          rural      Hygiene  2012   \n",
       "644  sdg  Central and Southern Asia          urban      Hygiene  2012   \n",
       "645  sdg  Central and Southern Asia          total      Hygiene  2012   \n",
       "646  sdg  Central and Southern Asia          rural      Hygiene  2012   \n",
       "\n",
       "     Coverage    Population    Service level  \n",
       "642  57.84334  1.051816e+09    Basic service  \n",
       "643  47.44093  5.708853e+08    Basic service  \n",
       "644  78.19666  4.809309e+08    Basic service  \n",
       "645  37.61230  6.839375e+08  Limited service  \n",
       "646  47.02904  5.659288e+08  Limited service  "
      ]
     },
     "execution_count": 7,
     "metadata": {},
     "output_type": "execute_result"
    }
   ],
   "source": [
    "hygienedf.head()"
   ]
  },
  {
   "cell_type": "code",
   "execution_count": 8,
   "metadata": {},
   "outputs": [],
   "source": [
    "hygienedf_total = hygienedf[hygienedf['Residence Type'] == 'total']"
   ]
  },
  {
   "cell_type": "code",
   "execution_count": 9,
   "metadata": {},
   "outputs": [
    {
     "data": {
      "text/html": [
       "<div>\n",
       "<style scoped>\n",
       "    .dataframe tbody tr th:only-of-type {\n",
       "        vertical-align: middle;\n",
       "    }\n",
       "\n",
       "    .dataframe tbody tr th {\n",
       "        vertical-align: top;\n",
       "    }\n",
       "\n",
       "    .dataframe thead th {\n",
       "        text-align: right;\n",
       "    }\n",
       "</style>\n",
       "<table border=\"1\" class=\"dataframe\">\n",
       "  <thead>\n",
       "    <tr style=\"text-align: right;\">\n",
       "      <th></th>\n",
       "      <th>Type</th>\n",
       "      <th>Region</th>\n",
       "      <th>Residence Type</th>\n",
       "      <th>Service Type</th>\n",
       "      <th>Year</th>\n",
       "      <th>Coverage</th>\n",
       "      <th>Population</th>\n",
       "      <th>Service level</th>\n",
       "    </tr>\n",
       "  </thead>\n",
       "  <tbody>\n",
       "    <tr>\n",
       "      <th>642</th>\n",
       "      <td>sdg</td>\n",
       "      <td>Central and Southern Asia</td>\n",
       "      <td>total</td>\n",
       "      <td>Hygiene</td>\n",
       "      <td>2012</td>\n",
       "      <td>57.84334</td>\n",
       "      <td>1.051816e+09</td>\n",
       "      <td>Basic service</td>\n",
       "    </tr>\n",
       "    <tr>\n",
       "      <th>645</th>\n",
       "      <td>sdg</td>\n",
       "      <td>Central and Southern Asia</td>\n",
       "      <td>total</td>\n",
       "      <td>Hygiene</td>\n",
       "      <td>2012</td>\n",
       "      <td>37.61230</td>\n",
       "      <td>6.839375e+08</td>\n",
       "      <td>Limited service</td>\n",
       "    </tr>\n",
       "    <tr>\n",
       "      <th>648</th>\n",
       "      <td>sdg</td>\n",
       "      <td>Central and Southern Asia</td>\n",
       "      <td>total</td>\n",
       "      <td>Hygiene</td>\n",
       "      <td>2012</td>\n",
       "      <td>4.54436</td>\n",
       "      <td>8.263401e+07</td>\n",
       "      <td>No handwashing facility</td>\n",
       "    </tr>\n",
       "    <tr>\n",
       "      <th>679</th>\n",
       "      <td>sdg</td>\n",
       "      <td>Central and Southern Asia</td>\n",
       "      <td>total</td>\n",
       "      <td>Hygiene</td>\n",
       "      <td>2013</td>\n",
       "      <td>57.95544</td>\n",
       "      <td>1.068202e+09</td>\n",
       "      <td>Basic service</td>\n",
       "    </tr>\n",
       "    <tr>\n",
       "      <th>682</th>\n",
       "      <td>sdg</td>\n",
       "      <td>Central and Southern Asia</td>\n",
       "      <td>total</td>\n",
       "      <td>Hygiene</td>\n",
       "      <td>2013</td>\n",
       "      <td>37.51056</td>\n",
       "      <td>6.913733e+08</td>\n",
       "      <td>Limited service</td>\n",
       "    </tr>\n",
       "  </tbody>\n",
       "</table>\n",
       "</div>"
      ],
      "text/plain": [
       "    Type                     Region Residence Type Service Type  Year  \\\n",
       "642  sdg  Central and Southern Asia          total      Hygiene  2012   \n",
       "645  sdg  Central and Southern Asia          total      Hygiene  2012   \n",
       "648  sdg  Central and Southern Asia          total      Hygiene  2012   \n",
       "679  sdg  Central and Southern Asia          total      Hygiene  2013   \n",
       "682  sdg  Central and Southern Asia          total      Hygiene  2013   \n",
       "\n",
       "     Coverage    Population            Service level  \n",
       "642  57.84334  1.051816e+09            Basic service  \n",
       "645  37.61230  6.839375e+08          Limited service  \n",
       "648   4.54436  8.263401e+07  No handwashing facility  \n",
       "679  57.95544  1.068202e+09            Basic service  \n",
       "682  37.51056  6.913733e+08          Limited service  "
      ]
     },
     "execution_count": 9,
     "metadata": {},
     "output_type": "execute_result"
    }
   ],
   "source": [
    "hygienedf_total.head()"
   ]
  },
  {
   "cell_type": "code",
   "execution_count": 10,
   "metadata": {},
   "outputs": [],
   "source": [
    "hygienedf_total.to_csv('data/hygienedf_data.csv')"
   ]
  },
  {
   "cell_type": "code",
   "execution_count": 11,
   "metadata": {},
   "outputs": [
    {
     "data": {
      "text/html": [
       "<div>\n",
       "<style scoped>\n",
       "    .dataframe tbody tr th:only-of-type {\n",
       "        vertical-align: middle;\n",
       "    }\n",
       "\n",
       "    .dataframe tbody tr th {\n",
       "        vertical-align: top;\n",
       "    }\n",
       "\n",
       "    .dataframe thead th {\n",
       "        text-align: right;\n",
       "    }\n",
       "</style>\n",
       "<table border=\"1\" class=\"dataframe\">\n",
       "  <thead>\n",
       "    <tr style=\"text-align: right;\">\n",
       "      <th></th>\n",
       "      <th>Region</th>\n",
       "      <th>Year</th>\n",
       "      <th>Coverage</th>\n",
       "      <th>Service level</th>\n",
       "    </tr>\n",
       "  </thead>\n",
       "  <tbody>\n",
       "    <tr>\n",
       "      <th>642</th>\n",
       "      <td>Central and Southern Asia</td>\n",
       "      <td>2012</td>\n",
       "      <td>57.84334</td>\n",
       "      <td>Basic service</td>\n",
       "    </tr>\n",
       "    <tr>\n",
       "      <th>645</th>\n",
       "      <td>Central and Southern Asia</td>\n",
       "      <td>2012</td>\n",
       "      <td>37.61230</td>\n",
       "      <td>Limited service</td>\n",
       "    </tr>\n",
       "    <tr>\n",
       "      <th>648</th>\n",
       "      <td>Central and Southern Asia</td>\n",
       "      <td>2012</td>\n",
       "      <td>4.54436</td>\n",
       "      <td>No handwashing facility</td>\n",
       "    </tr>\n",
       "    <tr>\n",
       "      <th>679</th>\n",
       "      <td>Central and Southern Asia</td>\n",
       "      <td>2013</td>\n",
       "      <td>57.95544</td>\n",
       "      <td>Basic service</td>\n",
       "    </tr>\n",
       "    <tr>\n",
       "      <th>682</th>\n",
       "      <td>Central and Southern Asia</td>\n",
       "      <td>2013</td>\n",
       "      <td>37.51056</td>\n",
       "      <td>Limited service</td>\n",
       "    </tr>\n",
       "  </tbody>\n",
       "</table>\n",
       "</div>"
      ],
      "text/plain": [
       "                        Region  Year  Coverage            Service level\n",
       "642  Central and Southern Asia  2012  57.84334            Basic service\n",
       "645  Central and Southern Asia  2012  37.61230          Limited service\n",
       "648  Central and Southern Asia  2012   4.54436  No handwashing facility\n",
       "679  Central and Southern Asia  2013  57.95544            Basic service\n",
       "682  Central and Southern Asia  2013  37.51056          Limited service"
      ]
     },
     "execution_count": 11,
     "metadata": {},
     "output_type": "execute_result"
    }
   ],
   "source": [
    "y = hygienedf_total.drop(['Population', 'Type', 'Residence Type', 'Service Type'], axis =1)\n",
    "hygienedf_total.head()"
   ]
  },
  {
   "cell_type": "code",
   "execution_count": 12,
   "metadata": {},
   "outputs": [
    {
     "data": {
      "text/html": [
       "<div>\n",
       "<style scoped>\n",
       "    .dataframe tbody tr th:only-of-type {\n",
       "        vertical-align: middle;\n",
       "    }\n",
       "\n",
       "    .dataframe tbody tr th {\n",
       "        vertical-align: top;\n",
       "    }\n",
       "\n",
       "    .dataframe thead th {\n",
       "        text-align: right;\n",
       "    }\n",
       "</style>\n",
       "<table border=\"1\" class=\"dataframe\">\n",
       "  <thead>\n",
       "    <tr style=\"text-align: right;\">\n",
       "      <th>Service level</th>\n",
       "      <th>Region</th>\n",
       "      <th>Year</th>\n",
       "      <th>Basic service</th>\n",
       "      <th>Limited service</th>\n",
       "      <th>No handwashing facility</th>\n",
       "    </tr>\n",
       "  </thead>\n",
       "  <tbody>\n",
       "    <tr>\n",
       "      <th>0</th>\n",
       "      <td>Central and Southern Asia</td>\n",
       "      <td>2012</td>\n",
       "      <td>57.84334</td>\n",
       "      <td>37.61230</td>\n",
       "      <td>4.54436</td>\n",
       "    </tr>\n",
       "    <tr>\n",
       "      <th>1</th>\n",
       "      <td>Central and Southern Asia</td>\n",
       "      <td>2013</td>\n",
       "      <td>57.95544</td>\n",
       "      <td>37.51056</td>\n",
       "      <td>4.53400</td>\n",
       "    </tr>\n",
       "    <tr>\n",
       "      <th>2</th>\n",
       "      <td>Central and Southern Asia</td>\n",
       "      <td>2014</td>\n",
       "      <td>58.06169</td>\n",
       "      <td>37.41489</td>\n",
       "      <td>4.52342</td>\n",
       "    </tr>\n",
       "    <tr>\n",
       "      <th>3</th>\n",
       "      <td>Central and Southern Asia</td>\n",
       "      <td>2015</td>\n",
       "      <td>58.16124</td>\n",
       "      <td>37.32596</td>\n",
       "      <td>4.51279</td>\n",
       "    </tr>\n",
       "    <tr>\n",
       "      <th>4</th>\n",
       "      <td>Central and Southern Asia</td>\n",
       "      <td>2017</td>\n",
       "      <td>58.38168</td>\n",
       "      <td>37.12723</td>\n",
       "      <td>4.49109</td>\n",
       "    </tr>\n",
       "  </tbody>\n",
       "</table>\n",
       "</div>"
      ],
      "text/plain": [
       "Service level                     Region  Year  Basic service  \\\n",
       "0              Central and Southern Asia  2012       57.84334   \n",
       "1              Central and Southern Asia  2013       57.95544   \n",
       "2              Central and Southern Asia  2014       58.06169   \n",
       "3              Central and Southern Asia  2015       58.16124   \n",
       "4              Central and Southern Asia  2017       58.38168   \n",
       "\n",
       "Service level  Limited service  No handwashing facility  \n",
       "0                     37.61230                  4.54436  \n",
       "1                     37.51056                  4.53400  \n",
       "2                     37.41489                  4.52342  \n",
       "3                     37.32596                  4.51279  \n",
       "4                     37.12723                  4.49109  "
      ]
     },
     "execution_count": 12,
     "metadata": {},
     "output_type": "execute_result"
    }
   ],
   "source": [
    "hygienedf_spread = pd.pivot_table(hygienedf_total, values = 'Coverage', index=['Region','Year'], columns = 'Service level').reset_index()\n",
    "hygienedf_spread.head()"
   ]
  },
  {
   "cell_type": "code",
   "execution_count": 14,
   "metadata": {},
   "outputs": [],
   "source": [
    "hygienedf = hygienedf_spread"
   ]
  },
  {
   "cell_type": "code",
   "execution_count": 15,
   "metadata": {},
   "outputs": [
    {
     "data": {
      "text/html": [
       "<div>\n",
       "<style scoped>\n",
       "    .dataframe tbody tr th:only-of-type {\n",
       "        vertical-align: middle;\n",
       "    }\n",
       "\n",
       "    .dataframe tbody tr th {\n",
       "        vertical-align: top;\n",
       "    }\n",
       "\n",
       "    .dataframe thead th {\n",
       "        text-align: right;\n",
       "    }\n",
       "</style>\n",
       "<table border=\"1\" class=\"dataframe\">\n",
       "  <thead>\n",
       "    <tr style=\"text-align: right;\">\n",
       "      <th>Service level</th>\n",
       "      <th>Region</th>\n",
       "      <th>Year</th>\n",
       "      <th>Basic service</th>\n",
       "      <th>Limited service</th>\n",
       "      <th>No handwashing facility</th>\n",
       "    </tr>\n",
       "  </thead>\n",
       "  <tbody>\n",
       "    <tr>\n",
       "      <th>0</th>\n",
       "      <td>Central and Southern Asia</td>\n",
       "      <td>2012</td>\n",
       "      <td>57.84334</td>\n",
       "      <td>37.61230</td>\n",
       "      <td>4.54436</td>\n",
       "    </tr>\n",
       "    <tr>\n",
       "      <th>1</th>\n",
       "      <td>Central and Southern Asia</td>\n",
       "      <td>2013</td>\n",
       "      <td>57.95544</td>\n",
       "      <td>37.51056</td>\n",
       "      <td>4.53400</td>\n",
       "    </tr>\n",
       "    <tr>\n",
       "      <th>2</th>\n",
       "      <td>Central and Southern Asia</td>\n",
       "      <td>2014</td>\n",
       "      <td>58.06169</td>\n",
       "      <td>37.41489</td>\n",
       "      <td>4.52342</td>\n",
       "    </tr>\n",
       "    <tr>\n",
       "      <th>3</th>\n",
       "      <td>Central and Southern Asia</td>\n",
       "      <td>2015</td>\n",
       "      <td>58.16124</td>\n",
       "      <td>37.32596</td>\n",
       "      <td>4.51279</td>\n",
       "    </tr>\n",
       "    <tr>\n",
       "      <th>4</th>\n",
       "      <td>Central and Southern Asia</td>\n",
       "      <td>2017</td>\n",
       "      <td>58.38168</td>\n",
       "      <td>37.12723</td>\n",
       "      <td>4.49109</td>\n",
       "    </tr>\n",
       "  </tbody>\n",
       "</table>\n",
       "</div>"
      ],
      "text/plain": [
       "Service level                     Region  Year  Basic service  \\\n",
       "0              Central and Southern Asia  2012       57.84334   \n",
       "1              Central and Southern Asia  2013       57.95544   \n",
       "2              Central and Southern Asia  2014       58.06169   \n",
       "3              Central and Southern Asia  2015       58.16124   \n",
       "4              Central and Southern Asia  2017       58.38168   \n",
       "\n",
       "Service level  Limited service  No handwashing facility  \n",
       "0                     37.61230                  4.54436  \n",
       "1                     37.51056                  4.53400  \n",
       "2                     37.41489                  4.52342  \n",
       "3                     37.32596                  4.51279  \n",
       "4                     37.12723                  4.49109  "
      ]
     },
     "execution_count": 15,
     "metadata": {},
     "output_type": "execute_result"
    }
   ],
   "source": [
    "hygienedf.head()"
   ]
  },
  {
   "cell_type": "code",
   "execution_count": 16,
   "metadata": {},
   "outputs": [
    {
     "data": {
      "text/plain": [
       "array(['Central and Southern Asia', 'Northern Africa and Western Asia',\n",
       "       'Sub-Saharan Africa'], dtype=object)"
      ]
     },
     "execution_count": 16,
     "metadata": {},
     "output_type": "execute_result"
    }
   ],
   "source": [
    "hygienedf['Region'].unique()"
   ]
  },
  {
   "cell_type": "code",
   "execution_count": 17,
   "metadata": {},
   "outputs": [],
   "source": [
    "df_csa = hygienedf[hygienedf['Region'] == 'Central and Southern Asia']\n",
    "df_nawa = hygienedf[hygienedf['Region'] == 'Northern Africa and Western Asia']\n",
    "df_ssa = hygienedf[hygienedf['Region'] == 'Sub-Saharan Africa']"
   ]
  },
  {
   "cell_type": "code",
   "execution_count": 18,
   "metadata": {},
   "outputs": [],
   "source": [
    "import matplotlib.pyplot as plt"
   ]
  },
  {
   "cell_type": "code",
   "execution_count": 20,
   "metadata": {},
   "outputs": [
    {
     "data": {
      "image/png": "[encoded data removed]",
      "text/plain": [
       "<Figure size 432x288 with 1 Axes>"
      ]
     },
     "metadata": {
      "needs_background": "light"
     },
     "output_type": "display_data"
    },
    {
     "data": {
      "image/png": "[encoded data removed]",
      "text/plain": [
       "<Figure size 432x288 with 1 Axes>"
      ]
     },
     "metadata": {
      "needs_background": "light"
     },
     "output_type": "display_data"
    },
    {
     "data": {
      "image/png": "[encoded data removed]",
      "text/plain": [
       "<Figure size 432x288 with 1 Axes>"
      ]
     },
     "metadata": {
      "needs_background": "light"
     },
     "output_type": "display_data"
    }
   ],
   "source": [
    "from matplotlib import pyplot\n",
    "sdg_regions = [df_csa,df_nawa,df_ssa]\n",
    "sdg_region_title = [ 'Central and Southern Asia',\n",
    "                   'Northern Africa and Western Asia', \n",
    "                   'Sub-Saharan Africa']\n",
    "index = 0\n",
    "for region in sdg_regions: \n",
    "        title = sdg_region_title[index]\n",
    "        \n",
    "        plt.plot(region['Year'], region['Basic service'], fillstyle = 'full',color = 'lightseagreen', marker = '^', label = \"Basic\")\n",
    "        plt.plot(region['Year'], region['Limited service'], fillstyle = 'full',color = 'royalblue', marker = '^', label = 'Limited')\n",
    "        plt.plot(region['Year'], region['No handwashing facility'], fillstyle = 'full',color = 'black', marker = '.', label = \"No handwashing facility\")\n",
    "        \n",
    "        plt.legend(loc='upper center', bbox_to_anchor=(1.45, 0.8), shadow=True, ncol=1)\n",
    "        plt.xticks(range(2010,2017,2))\n",
    "        plt.xlabel('Year')\n",
    "        plt.ylabel('Percent Coverage')\n",
    "        plt.title(title)\n",
    "        plt.show()        \n",
    "        index += 1"
   ]
  },
  {
   "cell_type": "code",
   "execution_count": null,
   "metadata": {},
   "outputs": [],
   "source": []
  }
 ],
 "metadata": {
  "kernelspec": {
   "display_name": "Python 3",
   "language": "python",
   "name": "python3"
  },
  "language_info": {
   "codemirror_mode": {
    "name": "ipython",
    "version": 3
   },
   "file_extension": ".py",
   "mimetype": "text/x-python",
   "name": "python",
   "nbconvert_exporter": "python",
   "pygments_lexer": "ipython3",
   "version": "3.6.9"
  }
 },
 "nbformat": 4,
 "nbformat_minor": 4
}
